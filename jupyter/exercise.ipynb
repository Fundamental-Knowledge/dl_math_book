{
 "cells": [
  {
   "cell_type": "markdown",
   "metadata": {},
   "source": [
    "#### 연습 문제 1 정답"
   ]
  },
  {
   "cell_type": "code",
   "execution_count": 1,
   "metadata": {},
   "outputs": [
    {
     "name": "stdout",
     "output_type": "stream",
     "text": [
      "1 월 January\n",
      "2 월 February\n",
      "3 월 March\n",
      "4 월 April\n",
      "5 월 May\n",
      "6 월 June\n",
      "7 월 July\n",
      "8 월 August\n",
      "9 월 September\n",
      "10 월 October\n",
      "11 월 November\n",
      "12 월 December\n"
     ]
    }
   ],
   "source": [
    "month = [\"January\", \"February\", \"March\", \"April\", \"May\", \"June\", \"July\", \"August\", \"September\", \"October\", \"November\", \"December\"]\n",
    "\n",
    "for i in range(12):\n",
    "    print(i + 1, \"월\", month[i])"
   ]
  },
  {
   "cell_type": "markdown",
   "metadata": {},
   "source": [
    "#### 연습 문제 2 정답"
   ]
  },
  {
   "cell_type": "code",
   "execution_count": 2,
   "metadata": {},
   "outputs": [
    {
     "name": "stdout",
     "output_type": "stream",
     "text": [
      "1 Spade A\n",
      "2 Spade 2\n",
      "3 Spade 3\n",
      "4 Spade 4\n",
      "5 Spade 5\n",
      "6 Spade 6\n",
      "7 Spade 7\n",
      "8 Spade 8\n",
      "9 Spade 9\n",
      "10 Spade 10\n",
      "11 Spade J\n",
      "12 Spade Q\n",
      "13 Spade K\n",
      "14 Heart A\n",
      "15 Heart 2\n",
      "16 Heart 3\n",
      "17 Heart 4\n",
      "18 Heart 5\n",
      "19 Heart 6\n",
      "20 Heart 7\n",
      "21 Heart 8\n",
      "22 Heart 9\n",
      "23 Heart 10\n",
      "24 Heart J\n",
      "25 Heart Q\n",
      "26 Heart K\n",
      "27 Diamond A\n",
      "28 Diamond 2\n",
      "29 Diamond 3\n",
      "30 Diamond 4\n",
      "31 Diamond 5\n",
      "32 Diamond 6\n",
      "33 Diamond 7\n",
      "34 Diamond 8\n",
      "35 Diamond 9\n",
      "36 Diamond 10\n",
      "37 Diamond J\n",
      "38 Diamond Q\n",
      "39 Diamond K\n",
      "40 Clover A\n",
      "41 Clover 2\n",
      "42 Clover 3\n",
      "43 Clover 4\n",
      "44 Clover 5\n",
      "45 Clover 6\n",
      "46 Clover 7\n",
      "47 Clover 8\n",
      "48 Clover 9\n",
      "49 Clover 10\n",
      "50 Clover J\n",
      "51 Clover Q\n",
      "52 Clover K\n"
     ]
    }
   ],
   "source": [
    "mark = [\"Spade\", \"Heart\", \"Diamond\", \"Clover\"]\n",
    "\n",
    "def card(num):\n",
    "    if num % 13 == 0:\n",
    "        return \"A\"\n",
    "    elif num % 13 == 10:\n",
    "        return \"J\"\n",
    "    elif num % 13 == 11:\n",
    "        return \"Q\"\n",
    "    elif num % 13 == 12:\n",
    "        return \"K\"\n",
    "    else:\n",
    "        return num % 13 + 1\n",
    "\n",
    "for i in range(52):\n",
    "    print(i + 1, mark[i // 13], card(i))"
   ]
  },
  {
   "cell_type": "markdown",
   "metadata": {},
   "source": [
    "#### 연습 문제 3 정답"
   ]
  },
  {
   "cell_type": "code",
   "execution_count": 3,
   "metadata": {},
   "outputs": [
    {
     "name": "stdout",
     "output_type": "stream",
     "text": [
      "[53.04841382 50.98169259 57.18185629 41.68144703 49.94833197 45.8148895\n",
      " 61.31529876 36.51464394 64.41538061 44.78152888 47.88161073 34.44792271\n",
      " 63.38201999 56.14849567 65.44874123 32.38120148 48.91497135 62.34865938\n",
      " 40.64808641 42.71480765]\n"
     ]
    }
   ],
   "source": [
    "import numpy as np\n",
    "\n",
    "score = [80, 78, 84, 69, 77, 73, 88, 64, 91, 72, 75, 62, 90, 83, 92, 60, 76, 89, 68, 70]\n",
    "\n",
    "def standardize(x):\n",
    "    return (x - np.mean(x)) / np.std(x)\n",
    "\n",
    "print(standardize(score) * 10 + 50)"
   ]
  },
  {
   "cell_type": "markdown",
   "metadata": {},
   "source": [
    "#### 연습 문제 4 정답"
   ]
  },
  {
   "cell_type": "code",
   "execution_count": 4,
   "metadata": {},
   "outputs": [
    {
     "name": "stdout",
     "output_type": "stream",
     "text": [
      "0.783\n"
     ]
    }
   ],
   "source": [
    "import random\n",
    "\n",
    "n = 1000\n",
    "cnt = 0\n",
    "\n",
    "for i in range(n):\n",
    "    x = random.random()\n",
    "    y = random.random()\n",
    "    if x * x + y * y <= 1:\n",
    "        cnt += 1\n",
    "\n",
    "print(cnt / n)"
   ]
  },
  {
   "cell_type": "markdown",
   "metadata": {},
   "source": [
    "#### 연습 문제 5 정답"
   ]
  },
  {
   "cell_type": "code",
   "execution_count": 5,
   "metadata": {},
   "outputs": [
    {
     "name": "stdout",
     "output_type": "stream",
     "text": [
      "[[ 0.2173913   0.08695652]\n",
      " [-0.17391304  0.13043478]]\n",
      "[[-0.06382979  0.08510638  0.61702128]\n",
      " [-0.12765957  0.17021277  0.23404255]\n",
      " [ 0.17021277  0.10638298  0.0212766 ]]\n",
      "[[-0.5      2.75     2.75     1.25   ]\n",
      " [ 0.1875  -0.09375 -0.21875 -0.15625]\n",
      " [-0.6875   3.34375  3.46875  1.90625]\n",
      " [-0.3125   1.15625  1.03125  0.59375]]\n"
     ]
    }
   ],
   "source": [
    "import numpy as np\n",
    "\n",
    "a = [[3, -2], [4, 5]]\n",
    "b = [[1, -3, 4], [-2, 5, 3], [2, -1, 0]]\n",
    "c = [[-1, 5, 2, -3], [0, 3, -1, 4], [2, -3, 0, -5], [-4, 2, 3, 1]]\n",
    "\n",
    "print(np.linalg.inv(a))\n",
    "print(np.linalg.inv(b))\n",
    "print(np.linalg.inv(c))"
   ]
  },
  {
   "cell_type": "markdown",
   "metadata": {},
   "source": [
    "#### 연습 문제 6 정답"
   ]
  },
  {
   "cell_type": "code",
   "execution_count": 6,
   "metadata": {},
   "outputs": [
    {
     "name": "stdout",
     "output_type": "stream",
     "text": [
      "[1. 3. 2.]\n",
      "[-1.  3. -2.  4.]\n"
     ]
    }
   ],
   "source": [
    "import numpy as np\n",
    "\n",
    "a = [[2, 5, -4], [3, -2, 6], [-1, 3, -2]]\n",
    "b = [9, 9, 4]\n",
    "print(np.linalg.inv(a) @ b)\n",
    "\n",
    "x = [[-1, 3, 5, 2], [4, -6, 3, -1], [3, 3, -4, 3], [2, -1, 2, -4]]\n",
    "y = [8, -32, 26, -25]\n",
    "print(np.linalg.inv(x) @ y)"
   ]
  },
  {
   "cell_type": "markdown",
   "metadata": {},
   "source": [
    "#### 연습 문제 9-1 정답"
   ]
  },
  {
   "cell_type": "code",
   "execution_count": 7,
   "metadata": {},
   "outputs": [
    {
     "name": "stdout",
     "output_type": "stream",
     "text": [
      "[0.20519308]\n",
      "1.4095872170439416\n",
      "0.9714363439632973\n"
     ]
    }
   ],
   "source": [
    "import numpy as np\n",
    "from sklearn import linear_model\n",
    "\n",
    "lr = linear_model.LinearRegression()\n",
    "x = np.array([[0], [2], [3], [5], [6], [7], [9], [11]])\n",
    "y = np.array([1.5, 1.7, 2.1, 2.2, 2.8, 2.9, 3.2, 3.7])\n",
    "\n",
    "# 예측 모델에 적용\n",
    "lr.fit(x, y)\n",
    "\n",
    "# 회귀계수\n",
    "print(lr.coef_)\n",
    "\n",
    "# 절편\n",
    "print(lr.intercept_)\n",
    "\n",
    "# 결정계수\n",
    "print(lr.score(x, y))"
   ]
  },
  {
   "cell_type": "markdown",
   "metadata": {},
   "source": [
    "#### 연습 문제 9-2 정답"
   ]
  },
  {
   "cell_type": "code",
   "execution_count": 8,
   "metadata": {},
   "outputs": [
    {
     "name": "stdout",
     "output_type": "stream",
     "text": [
      "[-2.00747629  3.00565224]\n",
      "-0.05311549519596337\n",
      "0.9998467355398505\n"
     ]
    }
   ],
   "source": [
    "import numpy as np\n",
    "from sklearn import linear_model\n",
    "\n",
    "lr = linear_model.LinearRegression()\n",
    "x = [[-2.1, -3.6], [-1.4, 3.1], [0.1, -2.7], [0.8, 1.8], [1.7, -0.5], [3.2, 4.1], [5.7, -1.9], [6.2, 5.2]]\n",
    "y = [-6.8, 12.2, -8.3, 3.6, -4.8, 5.8, -17.2, 3.1]\n",
    "\n",
    "# 예측 모델에 적용\n",
    "lr.fit(x, y)\n",
    "\n",
    "# 회귀계수\n",
    "print(lr.coef_)\n",
    "\n",
    "# 절편\n",
    "print(lr.intercept_)\n",
    "\n",
    "# 결정계수\n",
    "print(lr.score(x, y))"
   ]
  },
  {
   "cell_type": "markdown",
   "metadata": {},
   "source": [
    "#### 연습 문제 9-3 정답"
   ]
  },
  {
   "cell_type": "code",
   "execution_count": 9,
   "metadata": {},
   "outputs": [
    {
     "name": "stdout",
     "output_type": "stream",
     "text": [
      "[-3.89668886  2.98806606  0.98281857]\n",
      "0.0013066645356984985\n",
      "0.9999501089821065\n"
     ]
    }
   ],
   "source": [
    "import numpy as np\n",
    "from sklearn import linear_model\n",
    "\n",
    "lr = linear_model.LinearRegression()\n",
    "x = [[-3.4, 5.1, 4.1], [-2.2, 3.7, -3.4], [-1.3, -1.6, 2.6], [0.4, 7.3, -1.4], [1.4, -6.1, -3.6], [2.9, 4.2, 3.5], [4.6, 3.9, 2.9], [6.1, 2.5, -1.1]]\n",
    "y = [32.5, 16.1, 2.8, 19.1, -27.1, 4.8, -3.5, -17.5]\n",
    "\n",
    "# 예측 모델에 적용\n",
    "lr.fit(x, y)\n",
    "\n",
    "# 회귀계수\n",
    "print(lr.coef_)\n",
    "\n",
    "# 절편\n",
    "print(lr.intercept_)\n",
    "\n",
    "# 결정계수\n",
    "print(lr.score(x, y))"
   ]
  },
  {
   "cell_type": "markdown",
   "metadata": {},
   "source": [
    "#### 연습 문제 11 정답"
   ]
  },
  {
   "cell_type": "code",
   "execution_count": 10,
   "metadata": {
    "scrolled": true
   },
   "outputs": [
    {
     "name": "stdout",
     "output_type": "stream",
     "text": [
      "(3024, 4032, 3)\n"
     ]
    }
   ],
   "source": [
    "from PIL import Image\n",
    "import numpy as np\n",
    "\n",
    "im = Image.open('image/sample.png')\n",
    "ary = np.array(im)\n",
    "\n",
    "# 이미지 크기 출력(높이×폭×색상)\n",
    "print(ary.shape)\n",
    "\n",
    "# 이미지를 흑백으로 변환해 저장\n",
    "im.convert('L').save('image/sample_mono.png')\n",
    "\n",
    "# 이미지를 회전시켜 저장(45°로 회전)\n",
    "im.rotate(45).save('image/sample_rotate.png')"
   ]
  }
 ],
 "metadata": {
  "kernelspec": {
   "display_name": "Python 3",
   "language": "python",
   "name": "python3"
  },
  "language_info": {
   "codemirror_mode": {
    "name": "ipython",
    "version": 3
   },
   "file_extension": ".py",
   "mimetype": "text/x-python",
   "name": "python",
   "nbconvert_exporter": "python",
   "pygments_lexer": "ipython3",
   "version": "3.7.3"
  }
 },
 "nbformat": 4,
 "nbformat_minor": 2
}
