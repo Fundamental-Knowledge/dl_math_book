{
 "cells": [
  {
   "cell_type": "markdown",
   "metadata": {},
   "source": [
    "#### 코드 2-1 점화식 기반으로 피보나치 수열을 계산"
   ]
  },
  {
   "cell_type": "code",
   "execution_count": 1,
   "metadata": {},
   "outputs": [
    {
     "name": "stdout",
     "output_type": "stream",
     "text": [
      "[1, 1, 2, 3, 5, 8, 13, 21]\n"
     ]
    }
   ],
   "source": [
    "a = [0] * 8                     # 리스트 초기화\n",
    "a[0] = 1                        # 초항의 값 설정\n",
    "a[1] = 1                        # 2항의 값 설정\n",
    "\n",
    "for i in range(2, 8):\n",
    "    a[i] = a[i - 1] + a[i - 2]  # 점화식에서 각 항의 값 계산\n",
    "\n",
    "print(a)"
   ]
  },
  {
   "cell_type": "markdown",
   "metadata": {},
   "source": [
    "#### 코드 2-2 for문으로 수열의 합 계산"
   ]
  },
  {
   "cell_type": "code",
   "execution_count": 2,
   "metadata": {},
   "outputs": [
    {
     "name": "stdout",
     "output_type": "stream",
     "text": [
      "28\n"
     ]
    }
   ],
   "source": [
    "sum_value = 0\n",
    "\n",
    "for i in range(1, 8):   # range 함수는 반복 실행에 마지막 인자를 포함하지 않음\n",
    "    sum_value += i\n",
    "\n",
    "print(sum_value)"
   ]
  },
  {
   "cell_type": "markdown",
   "metadata": {},
   "source": [
    "#### 코드 2-3 공차를 지정하여 수열의 합 계산"
   ]
  },
  {
   "cell_type": "code",
   "execution_count": 3,
   "metadata": {},
   "outputs": [
    {
     "name": "stdout",
     "output_type": "stream",
     "text": [
      "1717\n"
     ]
    }
   ],
   "source": [
    "sum_value = 0\n",
    "\n",
    "for i in range(1, 101, 3):\n",
    "    sum_value += i\n",
    "\n",
    "print(sum_value)"
   ]
  },
  {
   "cell_type": "markdown",
   "metadata": {},
   "source": [
    "#### 코드 2-4 리스트를 만들고 sum 함수로 요소의 합을 계산"
   ]
  },
  {
   "cell_type": "code",
   "execution_count": 4,
   "metadata": {},
   "outputs": [
    {
     "name": "stdout",
     "output_type": "stream",
     "text": [
      "1717\n"
     ]
    }
   ],
   "source": [
    "a = [i for i in range(1, 101, 3)]\n",
    "total = sum(a)\n",
    "\n",
    "print(total)"
   ]
  },
  {
   "cell_type": "markdown",
   "metadata": {},
   "source": [
    "#### 코드 2-5 수열 2개를 리스트로 정의"
   ]
  },
  {
   "cell_type": "code",
   "execution_count": 5,
   "metadata": {},
   "outputs": [],
   "source": [
    "a = [1, 3, 5, 7]\n",
    "b = [2, 4, 6]"
   ]
  },
  {
   "cell_type": "markdown",
   "metadata": {},
   "source": [
    "#### 코드 2-6 리스트 내포"
   ]
  },
  {
   "cell_type": "code",
   "execution_count": 6,
   "metadata": {},
   "outputs": [
    {
     "name": "stdout",
     "output_type": "stream",
     "text": [
      "[1, 2, 3, 4, 5, 6, 7, 8, 9]\n"
     ]
    }
   ],
   "source": [
    "a = [x for x in range(1, 10)]\n",
    "\n",
    "print(a)"
   ]
  },
  {
   "cell_type": "markdown",
   "metadata": {},
   "source": [
    "#### 코드 2-7 리스트 내포로 2차원 리스트 생성"
   ]
  },
  {
   "cell_type": "code",
   "execution_count": 7,
   "metadata": {},
   "outputs": [
    {
     "name": "stdout",
     "output_type": "stream",
     "text": [
      "[[0, 1, 2], [1, 2, 3], [2, 3, 4], [3, 4, 5]]\n"
     ]
    }
   ],
   "source": [
    "b = [[i + j for i in range(3)] for j in range(4)]\n",
    "\n",
    "print(b)"
   ]
  },
  {
   "cell_type": "markdown",
   "metadata": {},
   "source": [
    "#### 코드 2-8 리스트 반복을 이용한 1차원 리스트 초기화"
   ]
  },
  {
   "cell_type": "code",
   "execution_count": 8,
   "metadata": {},
   "outputs": [
    {
     "name": "stdout",
     "output_type": "stream",
     "text": [
      "[0, 0, 0, 0, 0, 0, 0]\n"
     ]
    }
   ],
   "source": [
    "a = [0] * 7\n",
    "\n",
    "print(a)"
   ]
  },
  {
   "cell_type": "markdown",
   "metadata": {},
   "source": [
    "#### 코드 2-9 리스트 반복으로 2차원 리스트 초기화"
   ]
  },
  {
   "cell_type": "code",
   "execution_count": 9,
   "metadata": {},
   "outputs": [
    {
     "name": "stdout",
     "output_type": "stream",
     "text": [
      "[[0, 0, 0], [0, 0, 0], [0, 0, 0], [0, 0, 0]]\n"
     ]
    }
   ],
   "source": [
    "b = [[0] * 3] * 4\n",
    "\n",
    "print(b)"
   ]
  },
  {
   "cell_type": "markdown",
   "metadata": {},
   "source": [
    "#### 코드 2-10 리스트 반복으로 만든 2차원 리스트의 요소값 변경"
   ]
  },
  {
   "cell_type": "code",
   "execution_count": 10,
   "metadata": {},
   "outputs": [
    {
     "name": "stdout",
     "output_type": "stream",
     "text": [
      "[[0, 0, 5], [0, 0, 5], [0, 0, 5], [0, 0, 5]]\n"
     ]
    }
   ],
   "source": [
    "b = [[0] * 3] * 4\n",
    "b[1][2] = 5\n",
    "\n",
    "print(b)"
   ]
  },
  {
   "cell_type": "markdown",
   "metadata": {},
   "source": [
    "#### 코드 2-11 리스트 내포로 만든 2차원 리스트의 요소값 변경"
   ]
  },
  {
   "cell_type": "code",
   "execution_count": 11,
   "metadata": {},
   "outputs": [
    {
     "name": "stdout",
     "output_type": "stream",
     "text": [
      "[[0, 0, 0], [0, 0, 5], [0, 0, 0], [0, 0, 0]]\n"
     ]
    }
   ],
   "source": [
    "c = [[0 for i in range(3)] for j in range(4)]\n",
    "c[1][2] = 5\n",
    "\n",
    "print(c)"
   ]
  },
  {
   "cell_type": "markdown",
   "metadata": {},
   "source": [
    "#### 코드 2-12 집합 타입의 연산"
   ]
  },
  {
   "cell_type": "code",
   "execution_count": 12,
   "metadata": {},
   "outputs": [
    {
     "name": "stdout",
     "output_type": "stream",
     "text": [
      "{2, 4, 5}\n",
      "{4}\n",
      "{2, 5}\n",
      "{2, 3, 4, 5, 6}\n"
     ]
    }
   ],
   "source": [
    "a = set([2, 4, 5])   # 집합 A 생성\n",
    "b = set([3, 4, 6])   # 집합 B 생성\n",
    "\n",
    "print(a)             # 집합 A 출력\n",
    "print(a & b)         # 교집합 출력\n",
    "print(a - b)         # 차집합 출력\n",
    "print(a | b)         # 합집합 출력"
   ]
  },
  {
   "cell_type": "markdown",
   "metadata": {},
   "source": [
    "#### 코드 2-13 리스트 요소의 합과 평균 계산"
   ]
  },
  {
   "cell_type": "code",
   "execution_count": 13,
   "metadata": {},
   "outputs": [
    {
     "name": "stdout",
     "output_type": "stream",
     "text": [
      "390\n",
      "78.0\n"
     ]
    }
   ],
   "source": [
    "data = [70, 91, 69, 78, 82]\n",
    "total = sum(data)         # 데이터의 합 계산\n",
    "print(total)\n",
    "\n",
    "avg = total / len(data)   # 평균 계산\n",
    "print(avg)"
   ]
  },
  {
   "cell_type": "markdown",
   "metadata": {},
   "source": [
    "#### 코드 2-14 mean 함수로 평균 계산"
   ]
  },
  {
   "cell_type": "code",
   "execution_count": 14,
   "metadata": {},
   "outputs": [
    {
     "name": "stdout",
     "output_type": "stream",
     "text": [
      "78.0\n"
     ]
    }
   ],
   "source": [
    "import numpy as np\n",
    "\n",
    "data = [70, 91, 69, 78, 82]\n",
    "avg = np.mean(data)\n",
    "\n",
    "print(avg)"
   ]
  },
  {
   "cell_type": "markdown",
   "metadata": {},
   "source": [
    "#### 코드 2-15 분산과 표준편차를 함수로 만들어 계산"
   ]
  },
  {
   "cell_type": "code",
   "execution_count": 15,
   "metadata": {},
   "outputs": [
    {
     "name": "stdout",
     "output_type": "stream",
     "text": [
      "60.0\n",
      "434.4\n",
      "20.842264752180842\n"
     ]
    }
   ],
   "source": [
    "import math\n",
    "\n",
    "def var(data):\n",
    "    avg = sum(data) / len(data)\n",
    "    total = 0\n",
    "\n",
    "    for i in data:\n",
    "        total += (avg - i) ** 2\n",
    "\n",
    "    return total / len(data)\n",
    "\n",
    "def std(data):\n",
    "    return math.sqrt(var(data))\n",
    "\n",
    "a = [72, 61, 91, 31, 45]\n",
    "\n",
    "print(sum(a) / len(a))   # 평균 출력\n",
    "print(var(a))            # 분산 출력\n",
    "print(std(a))            # 표준편차 출력"
   ]
  },
  {
   "cell_type": "markdown",
   "metadata": {},
   "source": [
    "#### 코드 2-16 넘파이로 분산과 표준편차 계산"
   ]
  },
  {
   "cell_type": "code",
   "execution_count": 16,
   "metadata": {},
   "outputs": [
    {
     "name": "stdout",
     "output_type": "stream",
     "text": [
      "434.4\n",
      "20.842264752180842\n"
     ]
    }
   ],
   "source": [
    "import numpy as np\n",
    "\n",
    "a = [72, 61, 91, 31, 45]\n",
    "\n",
    "print(np.var(a))   # 분산 출력\n",
    "print(np.std(a))   # 표준편차 출력"
   ]
  },
  {
   "cell_type": "markdown",
   "metadata": {},
   "source": [
    "#### 코드 2-17 분산의 차이 확인"
   ]
  },
  {
   "cell_type": "code",
   "execution_count": 17,
   "metadata": {},
   "outputs": [
    {
     "name": "stdout",
     "output_type": "stream",
     "text": [
      "20.959999999999997\n",
      "0.0020960000000000037\n"
     ]
    }
   ],
   "source": [
    "import numpy as np\n",
    "\n",
    "a = [173, 181, 168, 175, 179]\n",
    "b = [1.73, 1.81, 1.68, 1.75, 1.79]\n",
    "\n",
    "print(np.var(a))\n",
    "print(np.var(b))"
   ]
  },
  {
   "cell_type": "markdown",
   "metadata": {},
   "source": [
    "#### 코드 2-18 데이터의 표준값 확인"
   ]
  },
  {
   "cell_type": "code",
   "execution_count": 18,
   "metadata": {},
   "outputs": [
    {
     "name": "stdout",
     "output_type": "stream",
     "text": [
      "[-0.48053723  1.26687088 -1.5726673  -0.0436852   0.83001885]\n",
      "[-0.48053723  1.26687088 -1.5726673  -0.0436852   0.83001885]\n"
     ]
    }
   ],
   "source": [
    "import numpy as np\n",
    "\n",
    "a = [173, 181, 168, 175, 179]\n",
    "b = [1.73, 1.81, 1.68, 1.75, 1.79]\n",
    "\n",
    "def standardize(x):\n",
    "    return (x - np.mean(x)) / np.std(x)\n",
    "\n",
    "print(standardize(a))\n",
    "print(standardize(b))"
   ]
  },
  {
   "cell_type": "markdown",
   "metadata": {},
   "source": [
    "#### 코드 2-19 실행할 때마다 다른 난수를 생성"
   ]
  },
  {
   "cell_type": "code",
   "execution_count": 19,
   "metadata": {},
   "outputs": [
    {
     "name": "stdout",
     "output_type": "stream",
     "text": [
      "0.08703709169306673\n",
      "0.8320162106940923\n",
      "0.6741197907695784\n"
     ]
    }
   ],
   "source": [
    "import random\n",
    "\n",
    "print(random.random())\n",
    "print(random.random())\n",
    "print(random.random())"
   ]
  },
  {
   "cell_type": "markdown",
   "metadata": {},
   "source": [
    "#### 코드 2-20 생성한 난수가 균등분포인지 확인"
   ]
  },
  {
   "cell_type": "code",
   "execution_count": 20,
   "metadata": {},
   "outputs": [
    {
     "name": "stdout",
     "output_type": "stream",
     "text": [
      "Counter({1: 114, 6: 111, 2: 110, 0: 100, 5: 97, 3: 95, 8: 95, 4: 95, 7: 93, 9: 90})\n"
     ]
    }
   ],
   "source": [
    "import random\n",
    "import collections\n",
    "import math\n",
    "\n",
    "r = []   # 난수를 1,000개 생성하고 리스트에 저장\n",
    "\n",
    "for i in range(1000):\n",
    "    r.append(random.random())\n",
    "\n",
    "# 소수점 첫 번째 자리 기준으로 난수를 구분\n",
    "print(collections.Counter([math.floor(x * 10) for x in r]))"
   ]
  },
  {
   "cell_type": "markdown",
   "metadata": {},
   "source": [
    "#### 코드 2-21 정규분포난수를 생성하고 평균과 표준편차 계산"
   ]
  },
  {
   "cell_type": "code",
   "execution_count": 21,
   "metadata": {},
   "outputs": [
    {
     "name": "stdout",
     "output_type": "stream",
     "text": [
      "0.03893184501640708\n",
      "1.0019112180741896\n"
     ]
    }
   ],
   "source": [
    "import numpy as np\n",
    "\n",
    "# 난수를 1,000개 생성한 리스트를 변수 n에 저장\n",
    "n = np.random.randn(1000)\n",
    "\n",
    "print(np.mean(n))   # 평균 계산\n",
    "print(np.std(n))    # 표준편차 계산"
   ]
  }
 ],
 "metadata": {
  "kernelspec": {
   "display_name": "Python 3",
   "language": "python",
   "name": "python3"
  },
  "language_info": {
   "codemirror_mode": {
    "name": "ipython",
    "version": 3
   },
   "file_extension": ".py",
   "mimetype": "text/x-python",
   "name": "python",
   "nbconvert_exporter": "python",
   "pygments_lexer": "ipython3",
   "version": "3.7.3"
  }
 },
 "nbformat": 4,
 "nbformat_minor": 2
}
