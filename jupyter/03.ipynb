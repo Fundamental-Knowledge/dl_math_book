{
 "cells": [
  {
   "cell_type": "markdown",
   "metadata": {},
   "source": [
    "#### 코드 3-1 넘파이의 행렬 계산"
   ]
  },
  {
   "cell_type": "code",
   "execution_count": 1,
   "metadata": {},
   "outputs": [
    {
     "name": "stdout",
     "output_type": "stream",
     "text": [
      "[2 1]\n",
      "[3 2 1]\n",
      "[[2 4 1]\n",
      " [6 3 5]]\n"
     ]
    }
   ],
   "source": [
    "import numpy as np\n",
    "\n",
    "a = np.array([2, 1])\n",
    "print(a)\n",
    "\n",
    "b = np.array([3, 2, 1])\n",
    "print(b)\n",
    "\n",
    "A = np.array([[2, 4, 1], [6, 3, 5]])\n",
    "print(A)"
   ]
  },
  {
   "cell_type": "markdown",
   "metadata": {},
   "source": [
    "#### 코드 3-2 텐서플로의 행렬 생성"
   ]
  },
  {
   "cell_type": "code",
   "execution_count": 2,
   "metadata": {},
   "outputs": [
    {
     "name": "stdout",
     "output_type": "stream",
     "text": [
      "[2 1]\n",
      "[3 2 1]\n",
      "[[2 4 1]\n",
      " [6 3 5]]\n"
     ]
    }
   ],
   "source": [
    "import tensorflow as tf\n",
    "\n",
    "sess = tf.Session()\n",
    "\n",
    "a = tf.constant([2, 1])\n",
    "print(sess.run(a))\n",
    "\n",
    "b = tf.constant([3, 2, 1])\n",
    "print(sess.run(b))\n",
    "\n",
    "A = tf.constant([[2, 4, 1], [6, 3, 5]])\n",
    "print(sess.run(A))"
   ]
  },
  {
   "cell_type": "markdown",
   "metadata": {},
   "source": [
    "#### 코드 3-3 넘파이로 벡터의 합, 차, 크기 계산"
   ]
  },
  {
   "cell_type": "code",
   "execution_count": 3,
   "metadata": {},
   "outputs": [
    {
     "name": "stdout",
     "output_type": "stream",
     "text": [
      "[4 6]\n",
      "[ 2 -2]\n",
      "3.605551275463989\n",
      "4.123105625617661\n",
      "3.605551275463989\n",
      "4.123105625617661\n"
     ]
    }
   ],
   "source": [
    "import numpy as np\n",
    "import math\n",
    "\n",
    "a = np.array([3, 2])\n",
    "b = np.array([1, 4])\n",
    "\n",
    "print(a + b)               # 벡터의 합\n",
    "print(a - b)               # 벡터의 차\n",
    "print(np.linalg.norm(a))   # 벡터 a의 크기\n",
    "print(np.linalg.norm(b))   # 벡터 b의 크기\n",
    "\n",
    "# 벡터의 크기를 함수로 계산\n",
    "def norm(x):\n",
    "    return math.sqrt(sum([i ** 2 for i in x]))\n",
    "\n",
    "print(norm(a))             # 벡터 a의 크기\n",
    "print(norm(b))             # 벡터 b의 크기"
   ]
  },
  {
   "cell_type": "markdown",
   "metadata": {},
   "source": [
    "#### 코드 3-4 dot 함수로 벡터의 내적 계산"
   ]
  },
  {
   "cell_type": "code",
   "execution_count": 4,
   "metadata": {},
   "outputs": [
    {
     "name": "stdout",
     "output_type": "stream",
     "text": [
      "11\n",
      "0\n"
     ]
    }
   ],
   "source": [
    "import numpy as np\n",
    "\n",
    "a = np.array([3, 2])\n",
    "b = np.array([1, 4])\n",
    "\n",
    "print(a.dot(b))   # 벡터 a와 b의 내적\n",
    "\n",
    "c = np.array([2, 1])\n",
    "d = np.array([-1, 2])\n",
    "\n",
    "print(c.dot(d))   # 벡터 c와 d의 내적"
   ]
  },
  {
   "cell_type": "markdown",
   "metadata": {},
   "source": [
    "#### 코드 3-5 넘파이로 행렬의 합과 차 계산"
   ]
  },
  {
   "cell_type": "code",
   "execution_count": 5,
   "metadata": {},
   "outputs": [
    {
     "name": "stdout",
     "output_type": "stream",
     "text": [
      "[[ 4  6  8]\n",
      " [ 7  9 11]]\n",
      "[[-2 -2 -2]\n",
      " [-1 -1 -1]]\n"
     ]
    }
   ],
   "source": [
    "import numpy as np\n",
    "\n",
    "X = np.array([[1, 2, 3], [3, 4, 5]])\n",
    "Y = np.array([[3, 4, 5], [4, 5, 6]])\n",
    "\n",
    "print(X + Y)\n",
    "print(X - Y)"
   ]
  },
  {
   "cell_type": "markdown",
   "metadata": {},
   "source": [
    "#### 코드 3-6 행렬의 곱 계산"
   ]
  },
  {
   "cell_type": "code",
   "execution_count": 6,
   "metadata": {},
   "outputs": [
    {
     "name": "stdout",
     "output_type": "stream",
     "text": [
      "[[26 32]\n",
      " [50 62]]\n",
      "[[26 32]\n",
      " [50 62]]\n",
      "[[26 32]\n",
      " [50 62]]\n"
     ]
    }
   ],
   "source": [
    "import numpy as np\n",
    "\n",
    "A = np.array([[1, 2, 3], [3, 4, 5]])\n",
    "B = np.array([[3, 4], [4, 5], [5, 6]])\n",
    "\n",
    "print(A.dot(B))   # 행렬의 곱 계산\n",
    "\n",
    "C = np.matrix([[1, 2, 3], [3, 4, 5]])\n",
    "D = np.matrix([[3, 4], [4, 5], [5, 6]])\n",
    "\n",
    "print(C * D)      # matrix 함수를 사용한 행렬의 곱 계산\n",
    "print(A @ B)      # 파이썬 3.5 이후에 포함된 @ 연산자 사용"
   ]
  },
  {
   "cell_type": "markdown",
   "metadata": {},
   "source": [
    "#### 코드 3-7 넘파이로 역행렬 계산"
   ]
  },
  {
   "cell_type": "code",
   "execution_count": 7,
   "metadata": {},
   "outputs": [
    {
     "name": "stdout",
     "output_type": "stream",
     "text": [
      "[[ 3. -5.]\n",
      " [-1.  2.]]\n"
     ]
    }
   ],
   "source": [
    "import numpy as np\n",
    "\n",
    "A = np.array([[2, 5], [1, 3]])\n",
    "print(np.linalg.inv(A))"
   ]
  },
  {
   "cell_type": "markdown",
   "metadata": {},
   "source": [
    "#### 코드 3-8 넘파이로 행렬식 계산"
   ]
  },
  {
   "cell_type": "code",
   "execution_count": 8,
   "metadata": {},
   "outputs": [
    {
     "name": "stdout",
     "output_type": "stream",
     "text": [
      "1.0\n",
      "-13.0\n"
     ]
    }
   ],
   "source": [
    "import numpy as np\n",
    "\n",
    "A = np.array([[2, 5], [1, 3]])\n",
    "print(np.linalg.det(A))\n",
    "\n",
    "B = np.array([[1, 4, 2], [3, -1, -2], [-3, 1, 3]])\n",
    "print(np.linalg.det(B))"
   ]
  },
  {
   "cell_type": "markdown",
   "metadata": {},
   "source": [
    "#### 코드 3-9 넘파이로 연립방정식 계산"
   ]
  },
  {
   "cell_type": "code",
   "execution_count": 9,
   "metadata": {},
   "outputs": [
    {
     "name": "stdout",
     "output_type": "stream",
     "text": [
      "[2. 1.]\n"
     ]
    }
   ],
   "source": [
    "import numpy as np\n",
    "\n",
    "A = np.array([[2, 3], [-1, 4]])\n",
    "B = np.array([7, 2])\n",
    "\n",
    "print(np.linalg.inv(A) @ B)"
   ]
  }
 ],
 "metadata": {
  "kernelspec": {
   "display_name": "Python 3",
   "language": "python",
   "name": "python3"
  },
  "language_info": {
   "codemirror_mode": {
    "name": "ipython",
    "version": 3
   },
   "file_extension": ".py",
   "mimetype": "text/x-python",
   "name": "python",
   "nbconvert_exporter": "python",
   "pygments_lexer": "ipython3",
   "version": "3.7.3"
  }
 },
 "nbformat": 4,
 "nbformat_minor": 2
}
