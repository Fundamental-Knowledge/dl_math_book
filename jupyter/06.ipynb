{
 "cells": [
  {
   "cell_type": "markdown",
   "metadata": {},
   "source": [
    "#### 코드 6-1 넘파이로 합성곱층의 순전파 계산"
   ]
  },
  {
   "cell_type": "code",
   "execution_count": 1,
   "metadata": {},
   "outputs": [
    {
     "data": {
      "text/plain": [
       "[[4, 7, 7, 4], [1, 5, 10, 9], [2, 6, 12, 10], [7, 10, 12, 8]]"
      ]
     },
     "execution_count": 1,
     "metadata": {},
     "output_type": "execute_result"
    }
   ],
   "source": [
    "import numpy as np\n",
    "\n",
    "# 입력 데이터\n",
    "x = np.array([[0, 1, 2, 1, 0, 0], [0, 0, 1, 2, 1, 0], [0, 0, 0, 1, 2, 1], [0, 0, 0, 1, 3, 2], [1, 1, 1, 3, 2, 0], [2, 2, 3, 2, 1, 0]])\n",
    "\n",
    "# 필터\n",
    "f = np.array([[0, 1, 1], [0, 1, 1], [0, 1, 1]])\n",
    "\n",
    "result = []\n",
    "\n",
    "for i in range(len(x) - len(f) + 1):\n",
    "    row = []\n",
    "    for j in range(len(x[0]) - len(f[0]) + 1):\n",
    "        # 행렬 요소끼리 곱한 후 합 계산\n",
    "        row.append(np.sum(x[i:i + len(f), j:j + len(f[0])] * f))\n",
    "    result.append(row)\n",
    "\n",
    "result"
   ]
  },
  {
   "cell_type": "markdown",
   "metadata": {},
   "source": [
    "#### 코드 6-2 사이파이로 합성곱층의 순전파 계산"
   ]
  },
  {
   "cell_type": "code",
   "execution_count": 2,
   "metadata": {},
   "outputs": [
    {
     "data": {
      "text/plain": [
       "array([[ 4,  7,  7,  4],\n",
       "       [ 1,  5, 10,  9],\n",
       "       [ 2,  6, 12, 10],\n",
       "       [ 7, 10, 12,  8]])"
      ]
     },
     "execution_count": 2,
     "metadata": {},
     "output_type": "execute_result"
    }
   ],
   "source": [
    "from scipy import signal\n",
    "\n",
    "# 입력\n",
    "x = [[0, 1, 2, 1, 0, 0], [0, 0, 1, 2, 1, 0], [0, 0, 0, 1, 2, 1], [0, 0, 0, 1, 3, 2], [1, 1, 1, 3, 2, 0], [2, 2, 3, 2, 1, 0]]\n",
    "\n",
    "# 필터\n",
    "f = [[0, 1, 1], [0, 1, 1], [0, 1, 1]]\n",
    "\n",
    "signal.correlate(x, f, 'valid')"
   ]
  },
  {
   "cell_type": "markdown",
   "metadata": {},
   "source": [
    "#### 코드 6-3 넘파이로 풀링층의 순전파 계산"
   ]
  },
  {
   "cell_type": "code",
   "execution_count": 3,
   "metadata": {},
   "outputs": [
    {
     "data": {
      "text/plain": [
       "[[0, 2, 0], [1, 2, 0], [2, 3, 1]]"
      ]
     },
     "execution_count": 3,
     "metadata": {},
     "output_type": "execute_result"
    }
   ],
   "source": [
    "import numpy as np\n",
    "\n",
    "# 입력\n",
    "x = np.array([[0, 0, 1, 0, 0, 0], [0, 0, 2, 0, 0, 0], [0, 1, 2, 1, 0, 0], [0, 1, 2, 1, 0, 0], [1, 2, 2, 2, 1, 0], [1, 2, 3, 2, 1, 0]])\n",
    "\n",
    "result = []\n",
    "\n",
    "for i in range(0, len(x), 2):\n",
    "    row = []\n",
    "    for j in range(0, len(x[0]), 2):\n",
    "        # 구분한 영역의 최댓값 계산\n",
    "        row.append(np.max(x[i:i + 2, j:j + 2]))\n",
    "    result.append(row)\n",
    "\n",
    "result"
   ]
  }
 ],
 "metadata": {
  "kernelspec": {
   "display_name": "Python 3",
   "language": "python",
   "name": "python3"
  },
  "language_info": {
   "codemirror_mode": {
    "name": "ipython",
    "version": 3
   },
   "file_extension": ".py",
   "mimetype": "text/x-python",
   "name": "python",
   "nbconvert_exporter": "python",
   "pygments_lexer": "ipython3",
   "version": "3.7.3"
  }
 },
 "nbformat": 4,
 "nbformat_minor": 2
}
